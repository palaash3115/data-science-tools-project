{
 "cells": [
  {
   "cell_type": "markdown",
   "id": "2e5ece49-b4a4-4282-b3db-c7b6d3ae6921",
   "metadata": {},
   "source": [
    "Exercise 2\n",
    "# Data Science Tools and Ecosystem\n"
   ]
  },
  {
   "cell_type": "markdown",
   "id": "fbce5873-2e82-4ae6-bed0-2a646910bf9c",
   "metadata": {},
   "source": [
    "Exercise3\n",
    "\n",
    "In this notebook, Data Science Tools and Ecosystem are summarized.\n"
   ]
  },
  {
   "cell_type": "markdown",
   "id": "a73691ac-ceab-45d8-a71d-64a7fa83ee2a",
   "metadata": {},
   "source": [
    "Exercise 4\n",
    "Some of the popular languages that Data Scientists use are:\n",
    "\n",
    "1. Python  \n",
    "2. R  \n",
    "3. SQL  \n",
    "4. Julia  \n"
   ]
  },
  {
   "cell_type": "markdown",
   "id": "5fbdbf59-f98f-49cf-91de-95e842a48a97",
   "metadata": {},
   "source": [
    "Exercise 5\n",
    "Some of the commonly used libraries used by Data Scientists include:\n",
    "\n",
    "1. Pandas  \n",
    "2. NumPy  \n",
    "3. Matplotlib  \n",
    "4. Scikit-learn  \n"
   ]
  },
  {
   "cell_type": "markdown",
   "id": "b5c56be5-73fc-4d0f-802c-dae896dc6160",
   "metadata": {},
   "source": [
    "Exercise 6\n",
    "| Data Science Tools     |\n",
    "|------------------------|\n",
    "| Jupyter Notebook       |\n",
    "| RStudio                |\n",
    "| VS Code                |\n"
   ]
  },
  {
   "cell_type": "markdown",
   "id": "d1cabe8a-572c-4116-b982-f1f70c5249f7",
   "metadata": {},
   "source": [
    "Exercise 7 \n",
    "### Below are a few examples of evaluating arithmetic expressions in Python.\n"
   ]
  },
  {
   "cell_type": "markdown",
   "id": "fd614e40-c3b9-4a1c-abd8-161d2858232d",
   "metadata": {},
   "source": [
    "Exercise 8 \n",
    "# This is a simple arithmetic expression to multiply then add integers\n",
    "\n",
    "\n"
   ]
  },
  {
   "cell_type": "code",
   "execution_count": 1,
   "id": "80523400-0627-4c25-b531-01bcb1598b1e",
   "metadata": {},
   "outputs": [
    {
     "name": "stdout",
     "output_type": "stream",
     "text": [
      "17\n"
     ]
    }
   ],
   "source": [
    "print((3*4)+5)\n"
   ]
  },
  {
   "cell_type": "markdown",
   "id": "210fc925-d86e-4aa8-b469-30c57070a1be",
   "metadata": {},
   "source": [
    "Exercise 9 \n",
    "# This will convert 200 minutes to hours by dividing by 60\n",
    "\n"
   ]
  },
  {
   "cell_type": "code",
   "execution_count": 2,
   "id": "e244db9e-5762-4f47-b0d1-88de0dceddb3",
   "metadata": {},
   "outputs": [
    {
     "data": {
      "text/plain": [
       "3.3333333333333335"
      ]
     },
     "execution_count": 2,
     "metadata": {},
     "output_type": "execute_result"
    }
   ],
   "source": [
    "200/60"
   ]
  },
  {
   "cell_type": "markdown",
   "id": "93bbbef8-03d4-49b0-970e-9261afe0dcfc",
   "metadata": {},
   "source": [
    "Exercise 10 \n",
    "**Objectives:**\n",
    "\n",
    "- List popular languages for Data Science\n",
    "- Understand basic Python syntax\n",
    "- Perform simple arithmetic operations in code cells\n",
    "- Use Markdown cells to document notebooks\n",
    "- Share notebooks through GitHub\n"
   ]
  },
  {
   "cell_type": "markdown",
   "id": "a8a01a4e-5714-4550-98af-609c88cf736d",
   "metadata": {},
   "source": [
    "Exercise 11\n",
    "## Author\n",
    "\n",
    "Palaash Modi\n"
   ]
  },
  {
   "cell_type": "code",
   "execution_count": null,
   "id": "7ccfc490-bc3c-4e72-b325-bc48a7826e7f",
   "metadata": {},
   "outputs": [],
   "source": []
  }
 ],
 "metadata": {
  "kernelspec": {
   "display_name": "Python 3 (ipykernel)",
   "language": "python",
   "name": "python3"
  },
  "language_info": {
   "codemirror_mode": {
    "name": "ipython",
    "version": 3
   },
   "file_extension": ".py",
   "mimetype": "text/x-python",
   "name": "python",
   "nbconvert_exporter": "python",
   "pygments_lexer": "ipython3",
   "version": "3.12.3"
  }
 },
 "nbformat": 4,
 "nbformat_minor": 5
}
